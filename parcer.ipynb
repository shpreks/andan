{
 "cells": [
  {
   "cell_type": "code",
   "execution_count": 34,
   "id": "af64fd8d",
   "metadata": {},
   "outputs": [],
   "source": [
    "import requests\n",
    "from bs4 import BeautifulSoup as bs\n",
    "import pandas as pd\n",
    "\n",
    "\n",
    "from selenium import webdriver\n",
    "from selenium.webdriver.chrome.service import Service\n",
    "from selenium.webdriver.common.by import By\n",
    "import time\n",
    "import pickle\n",
    "from csv import writer"
   ]
  },
  {
   "cell_type": "code",
   "execution_count": 24,
   "id": "f46ec849",
   "metadata": {},
   "outputs": [],
   "source": [
    "import warnings\n",
    "\n",
    "warnings.filterwarnings('ignore')"
   ]
  },
  {
   "cell_type": "code",
   "execution_count": 25,
   "id": "cfd8ea59",
   "metadata": {},
   "outputs": [],
   "source": [
    "URL_base = \"https://www.transfermarkt.world/\"\n"
   ]
  },
  {
   "cell_type": "code",
   "execution_count": 26,
   "id": "799da33c",
   "metadata": {},
   "outputs": [],
   "source": [
    "with open('players_url.data', 'rb') as filehandle:\n",
    "    players_url = pickle.load(filehandle)\n"
   ]
  },
  {
   "cell_type": "code",
   "execution_count": 27,
   "id": "0e8ac057",
   "metadata": {},
   "outputs": [],
   "source": [
    "name_columns = [\"name\", \"age\", \"position\", \"height\", \"value\", \"national_matches\", \"national_goals\",\n",
    "                \"matches18\", \"goals18\", \"assists18\", \"yellow18\", \"double_yellows18\", \"red18\",\n",
    "                \"matches19\", \"goals19\", \"assists19\", \"yellow19\", \"double_yellows19\", \"red19\",\n",
    "                \"matches20\", \"goals20\", \"assists20\", \"yellow20\", \"double_yellows20\", \"red20\",\n",
    "                \"matches21\", \"goals21\", \"assists21\", \"yellow21\", \"double_yellows21\", \"red21\",\n",
    "                \"matches22\", \"goals22\", \"assists22\", \"yellow22\", \"double_yellows22\", \"red22\"]"
   ]
  },
  {
   "cell_type": "code",
   "execution_count": 28,
   "id": "b9c94a3f",
   "metadata": {},
   "outputs": [],
   "source": [
    "def base_stat(url, number): # статистика с основной страницы профиля\n",
    "    r = requests.get(URL_base + url + \"/profil/spieler/\" + number, headers={'User-Agent': 'Custom'})\n",
    "    soup = bs(r.text, \"html.parser\")\n",
    "    try:\n",
    "        # возраст\n",
    "        age = soup.select(\"[itemprop='birthDate']\")[0]\n",
    "        age = int(age.text.strip()[-3:-1])\n",
    "    \n",
    "        # позиция\n",
    "        position = soup.select(\".detail-position__position\")[0]\n",
    "    \n",
    "        # рост\n",
    "        height = soup.select(\"[itemprop='height']\")[0]\n",
    "        height = float(height.text.strip()[:-2].replace(\",\", \".\"))\n",
    "    \n",
    "        # стоимость\n",
    "        value = soup.select(\".data-header__market-value-wrapper\")[0]\n",
    "        value = float(value.text.split()[0].replace(\",\", \".\"))\n",
    "    except Exception as ex:\n",
    "        print(ex)\n",
    "        age = 0\n",
    "        position = 0\n",
    "        height = 0\n",
    "        value = 0\n",
    "    # количество матчей и голов за сборную\n",
    "    try:\n",
    "        national_team = soup.select(\".data-header__content--highlight\")\n",
    "        national_matches = int(national_team[0].text.strip())\n",
    "        national_goals = int(national_team[1].text.strip())\n",
    "    except Exception as ex:\n",
    "        print(ex)\n",
    "        national_matches = 0\n",
    "        national_goals = 0\n",
    "        \n",
    "    return [age, position, height, value, national_matches, national_goals]"
   ]
  },
  {
   "cell_type": "code",
   "execution_count": 29,
   "id": "820a051e",
   "metadata": {},
   "outputs": [],
   "source": [
    "def adv_stat(url, number, year): # подробная статистика за сезон\n",
    "    try:\n",
    "        r = requests.get(URL_base + url + \"/leistungsdaten/spieler/\" + number + \"/plus/0?saison=\" + year, headers={'User-Agent': 'Custom'})\n",
    "        soup = bs(r.text, \"html.parser\")\n",
    "    \n",
    "        # матчи голы ассисты желтые карточки красные карточки за сезон \n",
    "        statistic = soup.select(\".rechts ~ td + .zentriert\")\n",
    "        matches = int(statistic[0].text) if statistic[0].text.isnumeric() else 0\n",
    "        goals = int(statistic[1].text) if statistic[1].text.isnumeric() else 0\n",
    "        assists = int(statistic[2].text) if statistic[2].text.isnumeric() else 0\n",
    "        yellow = int(statistic[3].text) if statistic[3].text.isnumeric() else 0\n",
    "        double_yellow = int(statistic[4].text) if statistic[4].text.isnumeric() else 0\n",
    "        red = int(statistic[5].text) if statistic[5].text.isnumeric() else 0\n",
    "    except Exception as ex:\n",
    "        print(ex)\n",
    "        matches = 0\n",
    "        goals = 0\n",
    "        assists = 0\n",
    "        yellow = 0\n",
    "        double_yellow = 0\n",
    "        red = 0\n",
    "        \n",
    "    return [matches, goals, assists, yellow, double_yellow, red]"
   ]
  },
  {
   "cell_type": "code",
   "execution_count": 35,
   "id": "d3748b4b",
   "metadata": {},
   "outputs": [],
   "source": [
    "def player(url):\n",
    "    number = url.split(\"/\")[-1]\n",
    "    player_base_url = url.split(\"/\")[1]\n",
    "    \n",
    "    params = [player_base_url]\n",
    "    \n",
    "    params.extend(base_stat(player_base_url, number))\n",
    "    \n",
    "    for year in range(2020, 2023):\n",
    "        params.extend(adv_stat(player_base_url, number, str(year)))\n",
    "    \n",
    "    with open('df_football.csv', 'a', newline='') as f_object:  \n",
    "    # Pass the CSV  file object to the writer() function\n",
    "        writer_object = writer(f_object)\n",
    "        # Result - a writer object\n",
    "        # Pass the data in the list as an argument into the writerow() function\n",
    "        writer_object.writerow(params)  \n",
    "        # Close the file object\n",
    "        f_object.close()\n",
    "    return params"
   ]
  },
  {
   "cell_type": "code",
   "execution_count": 36,
   "id": "60b1f266",
   "metadata": {},
   "outputs": [],
   "source": [
    "name_columns = [\"name\", \"age\", \"position\", \"height\", \"value\", \"national_matches\", \"national_goals\",\n",
    "                \"matches18\", \"goals18\", \"assists18\", \"yellow18\", \"double_yellows18\", \"red18\",\n",
    "                \"matches19\", \"goals19\", \"assists19\", \"yellow19\", \"double_yellows19\", \"red19\",\n",
    "                \"matches20\", \"goals20\", \"assists20\", \"yellow20\", \"double_yellows20\", \"red20\",\n",
    "                \"matches21\", \"goals21\", \"assists21\", \"yellow21\", \"double_yellows21\", \"red21\",\n",
    "                \"matches22\", \"goals22\", \"assists22\", \"yellow22\", \"double_yellows22\", \"red22\"]"
   ]
  },
  {
   "cell_type": "code",
   "execution_count": 37,
   "id": "6dcfeba9",
   "metadata": {},
   "outputs": [],
   "source": [
    "df = pd.DataFrame(columns=name_columns)"
   ]
  },
  {
   "cell_type": "code",
   "execution_count": 38,
   "id": "5974c282",
   "metadata": {},
   "outputs": [
    {
     "ename": "PermissionError",
     "evalue": "[Errno 13] Permission denied: 'df_football.csv'",
     "output_type": "error",
     "traceback": [
      "\u001b[1;31m---------------------------------------------------------------------------\u001b[0m",
      "\u001b[1;31mPermissionError\u001b[0m                           Traceback (most recent call last)",
      "\u001b[1;32m~\\AppData\\Local\\Temp/ipykernel_8752/3128051267.py\u001b[0m in \u001b[0;36m<module>\u001b[1;34m\u001b[0m\n\u001b[0;32m      1\u001b[0m \u001b[1;32mfor\u001b[0m \u001b[0murl\u001b[0m \u001b[1;32min\u001b[0m \u001b[0mplayers_url\u001b[0m\u001b[1;33m:\u001b[0m\u001b[1;33m\u001b[0m\u001b[1;33m\u001b[0m\u001b[0m\n\u001b[1;32m----> 2\u001b[1;33m     \u001b[0mstring\u001b[0m \u001b[1;33m=\u001b[0m \u001b[0mplayer\u001b[0m\u001b[1;33m(\u001b[0m\u001b[0murl\u001b[0m\u001b[1;33m)\u001b[0m\u001b[1;33m\u001b[0m\u001b[1;33m\u001b[0m\u001b[0m\n\u001b[0m\u001b[0;32m      3\u001b[0m     \u001b[0mdf\u001b[0m\u001b[1;33m.\u001b[0m\u001b[0mappend\u001b[0m\u001b[1;33m(\u001b[0m\u001b[0mstring\u001b[0m\u001b[1;33m)\u001b[0m\u001b[1;33m\u001b[0m\u001b[1;33m\u001b[0m\u001b[0m\n",
      "\u001b[1;32m~\\AppData\\Local\\Temp/ipykernel_8752/275808697.py\u001b[0m in \u001b[0;36mplayer\u001b[1;34m(url)\u001b[0m\n\u001b[0;32m     10\u001b[0m         \u001b[0mparams\u001b[0m\u001b[1;33m.\u001b[0m\u001b[0mextend\u001b[0m\u001b[1;33m(\u001b[0m\u001b[0madv_stat\u001b[0m\u001b[1;33m(\u001b[0m\u001b[0mplayer_base_url\u001b[0m\u001b[1;33m,\u001b[0m \u001b[0mnumber\u001b[0m\u001b[1;33m,\u001b[0m \u001b[0mstr\u001b[0m\u001b[1;33m(\u001b[0m\u001b[0myear\u001b[0m\u001b[1;33m)\u001b[0m\u001b[1;33m)\u001b[0m\u001b[1;33m)\u001b[0m\u001b[1;33m\u001b[0m\u001b[1;33m\u001b[0m\u001b[0m\n\u001b[0;32m     11\u001b[0m \u001b[1;33m\u001b[0m\u001b[0m\n\u001b[1;32m---> 12\u001b[1;33m     \u001b[1;32mwith\u001b[0m \u001b[0mopen\u001b[0m\u001b[1;33m(\u001b[0m\u001b[1;34m'df_football.csv'\u001b[0m\u001b[1;33m,\u001b[0m \u001b[1;34m'a'\u001b[0m\u001b[1;33m,\u001b[0m \u001b[0mnewline\u001b[0m\u001b[1;33m=\u001b[0m\u001b[1;34m''\u001b[0m\u001b[1;33m)\u001b[0m \u001b[1;32mas\u001b[0m \u001b[0mf_object\u001b[0m\u001b[1;33m:\u001b[0m\u001b[1;33m\u001b[0m\u001b[1;33m\u001b[0m\u001b[0m\n\u001b[0m\u001b[0;32m     13\u001b[0m     \u001b[1;31m# Pass the CSV  file object to the writer() function\u001b[0m\u001b[1;33m\u001b[0m\u001b[1;33m\u001b[0m\u001b[0m\n\u001b[0;32m     14\u001b[0m         \u001b[0mwriter_object\u001b[0m \u001b[1;33m=\u001b[0m \u001b[0mwriter\u001b[0m\u001b[1;33m(\u001b[0m\u001b[0mf_object\u001b[0m\u001b[1;33m)\u001b[0m\u001b[1;33m\u001b[0m\u001b[1;33m\u001b[0m\u001b[0m\n",
      "\u001b[1;31mPermissionError\u001b[0m: [Errno 13] Permission denied: 'df_football.csv'"
     ]
    }
   ],
   "source": [
    "for url in players_url:\n",
    "    string = player(url)\n",
    "    df.append(string)"
   ]
  },
  {
   "cell_type": "code",
   "execution_count": null,
   "id": "7f4eb44e",
   "metadata": {},
   "outputs": [],
   "source": [
    "df.shape"
   ]
  },
  {
   "cell_type": "code",
   "execution_count": null,
   "id": "71cc35c8",
   "metadata": {},
   "outputs": [],
   "source": [
    "#df.to_csv(\"df_football.csv\", header=None, index=False)"
   ]
  },
  {
   "cell_type": "code",
   "execution_count": 235,
   "id": "10cd03a0",
   "metadata": {},
   "outputs": [],
   "source": [
    "url = players[0]\n",
    "number = url.split(\"/\")[-1]\n",
    "player_base_url = url.split(\"/\")[1]\n",
    "year = \"2021\"\n",
    "r = requests.get(URL_base + player_base_url + \"/leistungsdaten/spieler/\" + number + \"/plus/0?saison=\" + year, headers={'User-Agent': 'Custom'})\n",
    "soup = bs(r.text, \"html.parser\")\n",
    "    \n",
    "    # матчи голы ассисты желтые карточки красные карточки за сезон \n",
    "statistic = soup.select(\".rechts ~ td + .zentriert\")\n",
    "matches = int(statistic[0].text) if statistic[0].text.isnumeric() else 0\n",
    "goals = int(statistic[1].text) if statistic[1].text.isnumeric() else 0\n",
    "assists = int(statistic[2].text) if statistic[2].text.isnumeric() else 0\n",
    "yellow = int(statistic[3].text) if statistic[3].text.isnumeric() else 0\n",
    "double_yellow = int(statistic[4].text) if statistic[4].text.isnumeric() else 0\n",
    "red = int(statistic[5].text) if statistic[5].text.isnumeric() else 0\n",
    "    "
   ]
  },
  {
   "cell_type": "code",
   "execution_count": 237,
   "id": "da8954ff",
   "metadata": {},
   "outputs": [
    {
     "data": {
      "text/plain": [
       "29"
      ]
     },
     "execution_count": 237,
     "metadata": {},
     "output_type": "execute_result"
    }
   ],
   "source": [
    "goals"
   ]
  },
  {
   "cell_type": "code",
   "execution_count": 145,
   "id": "aae5d538",
   "metadata": {},
   "outputs": [],
   "source": [
    "r = requests.get(\"https://www.transfermarkt.world/erling-haaland/leistungsdaten/spieler/418560\",   headers={'User-Agent': 'Custom'})\n",
    "soup = bs(r.text, \"html.parser\")\n",
    "# возраст\n"
   ]
  },
  {
   "cell_type": "code",
   "execution_count": 163,
   "id": "f52c8a34",
   "metadata": {},
   "outputs": [],
   "source": [
    "statistic = soup.select(\".rechts ~ td + .zentriert\")\n",
    "matches = int(statistic[0].text) if statistic[0].text.isnumeric() else 0\n",
    "goals = int(statistic[1].text) if statistic[1].text.isnumeric() else 0\n",
    "assists = int(statistic[2].text) if statistic[2].text.isnumeric() else 0\n",
    "yellow = int(statistic[3].text) if statistic[3].text.isnumeric() else 0\n",
    "double_yellow = int(statistic[4].text) if statistic[4].text.isnumeric() else 0\n",
    "red = int(statistic[5].text) if statistic[5].text.isnumeric() else 0"
   ]
  },
  {
   "cell_type": "code",
   "execution_count": 165,
   "id": "473cc0b5",
   "metadata": {},
   "outputs": [
    {
     "data": {
      "text/plain": [
       "52"
      ]
     },
     "execution_count": 165,
     "metadata": {},
     "output_type": "execute_result"
    }
   ],
   "source": [
    "https://www.transfermarkt.world/erling-haaland/leistungsdaten/spieler/418560/plus/0?saison=2022"
   ]
  },
  {
   "cell_type": "code",
   "execution_count": 81,
   "id": "4fff2327",
   "metadata": {},
   "outputs": [
    {
     "ename": "SyntaxError",
     "evalue": "invalid syntax (Temp/ipykernel_5396/2170122847.py, line 1)",
     "output_type": "error",
     "traceback": [
      "\u001b[1;36m  File \u001b[1;32m\"C:\\Users\\persi\\AppData\\Local\\Temp/ipykernel_5396/2170122847.py\"\u001b[1;36m, line \u001b[1;32m1\u001b[0m\n\u001b[1;33m    https://www.transfermarkt.world/erling-haaland/leistungsdaten/spieler/\u001b[0m\n\u001b[1;37m          ^\u001b[0m\n\u001b[1;31mSyntaxError\u001b[0m\u001b[1;31m:\u001b[0m invalid syntax\n"
     ]
    }
   ],
   "source": [
    "https://www.transfermarkt.world/erling-haaland/leistungsdaten/spieler/"
   ]
  },
  {
   "cell_type": "code",
   "execution_count": 19,
   "id": "38cbbbc1",
   "metadata": {},
   "outputs": [
    {
     "data": {
      "text/plain": [
       "'https://www.transfermarkt.world/erling-haaland/profil/spieler/418560'"
      ]
     },
     "execution_count": 19,
     "metadata": {},
     "output_type": "execute_result"
    }
   ],
   "source": [
    "URL_base + players[0]"
   ]
  },
  {
   "cell_type": "code",
   "execution_count": null,
   "id": "0a408ac5",
   "metadata": {},
   "outputs": [],
   "source": [
    "https://www.transfermarkt.world/erling-haaland/nationalmannschaft/spieler/418560"
   ]
  }
 ],
 "metadata": {
  "kernelspec": {
   "display_name": "Python 3 (ipykernel)",
   "language": "python",
   "name": "python3"
  },
  "language_info": {
   "codemirror_mode": {
    "name": "ipython",
    "version": 3
   },
   "file_extension": ".py",
   "mimetype": "text/x-python",
   "name": "python",
   "nbconvert_exporter": "python",
   "pygments_lexer": "ipython3",
   "version": "3.9.13"
  }
 },
 "nbformat": 4,
 "nbformat_minor": 5
}

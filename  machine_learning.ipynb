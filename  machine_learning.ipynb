{
 "cells": [
  {
   "cell_type": "markdown",
   "id": "966b9d40",
   "metadata": {},
   "source": [
    "# Обучение модели.\n",
    "__Цель__: опредеделение стоимости игрока по его параметрам.<br/>\n",
    "__Основная метрика__: MAE. Показывает среднее абсолютное отклонение между фактическими значениями целевой переменной и предсказаниями модели. Эта метрика хорошо интерпретируема и легко понятна, так как она показывает, на сколько единиц оценка модели отклоняется от реальных значений.<br/>\n",
    "__Основные предположения__: Параметры, отражающие голевую и ассистенскую результативность должны сильно влиять на увеличении стоимости футболиста. Матчи и голы за наицональную сборную также должны иметь позитивную корреляцию со стоимостью. Красные и желтые карточки являются редким являением в футболе, их наличие или отсутствие не должно сильно влиять. Слишком возрастные футболисты стоят дешевле своих молодых коллег."
   ]
  },
  {
   "cell_type": "code",
   "execution_count": 306,
   "id": "d9bce56f",
   "metadata": {},
   "outputs": [],
   "source": [
    "import numpy as np\n",
    "import scipy.stats as sts\n",
    "\n",
    "import matplotlib.pyplot as plt\n",
    "import seaborn as sns\n",
    "import pandas as pd\n",
    "\n",
    "from sklearn.model_selection import train_test_split, RandomizedSearchCV\n",
    "from sklearn.linear_model import LinearRegression, Ridge, Lasso\n",
    "from sklearn.metrics import mean_squared_error, mean_absolute_error, mean_absolute_percentage_error \n",
    "from sklearn.preprocessing import StandardScaler\n",
    "from sklearn.preprocessing import OneHotEncoder\n",
    "from sklearn.compose import ColumnTransformer\n",
    "from sklearn.preprocessing import PolynomialFeatures\n",
    "from sklearn.model_selection import GridSearchCV\n",
    "from sklearn.ensemble import GradientBoostingRegressor, RandomForestRegressor\n",
    "\n",
    "import warnings\n",
    "warnings.filterwarnings(\"ignore\")"
   ]
  },
  {
   "cell_type": "code",
   "execution_count": 307,
   "id": "c150ae63",
   "metadata": {},
   "outputs": [],
   "source": [
    "df = pd.read_csv(\"new_data.csv\")"
   ]
  },
  {
   "cell_type": "markdown",
   "id": "a1b5cd75",
   "metadata": {},
   "source": [
    "Определям параметры и целевую пермеенную."
   ]
  },
  {
   "cell_type": "code",
   "execution_count": 308,
   "id": "a7ca4afa",
   "metadata": {},
   "outputs": [],
   "source": [
    "target = \"value\"\n",
    "\n",
    "params = ['age','height', 'national_matches',\n",
    "       'national_goals', 'matches20', 'goals20', 'assists20', 'yellow20',\n",
    "       'double_yellows20', 'red20', 'matches21', 'goals21', 'assists21',\n",
    "       'yellow21', 'double_yellows21', 'red21', 'matches22', 'goals22',\n",
    "       'assists22', 'yellow22', 'double_yellows22', 'red22', 'goalkeeper', 'deff', 'middle', 'attack',\n",
    "          'goal_percentage20', 'goal_percentage21', 'goal_percentage22',\n",
    "       'assists_percentage20', 'assists_percentage21', 'assists_percentage22']"
   ]
  },
  {
   "cell_type": "markdown",
   "id": "f99ba954",
   "metadata": {},
   "source": [
    "Разделение выборки на тренировочную и тестовую."
   ]
  },
  {
   "cell_type": "code",
   "execution_count": 309,
   "id": "0be78f7d",
   "metadata": {},
   "outputs": [],
   "source": [
    "df_train, df_test = train_test_split(df, test_size=0.2)"
   ]
  },
  {
   "cell_type": "code",
   "execution_count": 310,
   "id": "f504b313",
   "metadata": {},
   "outputs": [],
   "source": [
    "x_train, y_train =  df_train[params], df_train[target]\n",
    "x_test, y_test = df_test[params], df_test[target]"
   ]
  },
  {
   "cell_type": "markdown",
   "id": "410d71ca",
   "metadata": {},
   "source": [
    "# Наивная модель. \n",
    "Предположение что стоимость футболиста из тестовой выборки равна медианной для тренировочной:"
   ]
  },
  {
   "cell_type": "code",
   "execution_count": 311,
   "id": "1abe2f29",
   "metadata": {},
   "outputs": [],
   "source": [
    "y_pred_naive = y_train.median() * np.ones_like(y_test)"
   ]
  },
  {
   "cell_type": "code",
   "execution_count": 312,
   "id": "5cd5c2bc",
   "metadata": {},
   "outputs": [
    {
     "name": "stdout",
     "output_type": "stream",
     "text": [
      "MSE: 855429957.157258\n",
      "MAE: 16728.125\n",
      "MAPE: 2.059628503463795\n"
     ]
    }
   ],
   "source": [
    "print(f\"MSE: {mean_squared_error(y_test, y_pred_naive)}\")\n",
    "print(f\"MAE: {mean_absolute_error(y_test, y_pred_naive)}\")\n",
    "print(f\"MAPE: {mean_absolute_percentage_error(y_test, y_pred_naive)}\")"
   ]
  },
  {
   "cell_type": "markdown",
   "id": "5e133633",
   "metadata": {},
   "source": [
    "Стандартизирование данных(приведение всех шкал к 1 размерности):"
   ]
  },
  {
   "cell_type": "code",
   "execution_count": 314,
   "id": "148f7cdb",
   "metadata": {},
   "outputs": [],
   "source": [
    "scaler = StandardScaler()\n",
    "x_train = scaler.fit_transform(x_train)\n",
    "x_test = scaler.fit_transform(x_test)"
   ]
  },
  {
   "cell_type": "markdown",
   "id": "2b2dca97",
   "metadata": {},
   "source": [
    "# Линейная модель:"
   ]
  },
  {
   "cell_type": "markdown",
   "id": "886e09b1",
   "metadata": {},
   "source": [
    "Подбираем лучший параметр для модели."
   ]
  },
  {
   "cell_type": "code",
   "execution_count": 315,
   "id": "3826f37d",
   "metadata": {},
   "outputs": [],
   "source": [
    "alphas = np.logspace(-2, 3, 20)\n",
    "searcher = GridSearchCV(Ridge(), [{\"alpha\": alphas}], scoring=\"neg_mean_absolute_error\", cv=10)\n",
    "searcher.fit(x_train, y_train)\n",
    "alpha = searcher.best_params_[\"alpha\"]"
   ]
  },
  {
   "cell_type": "code",
   "execution_count": 316,
   "id": "9dc37e49",
   "metadata": {},
   "outputs": [
    {
     "data": {
      "text/plain": [
       "162.3776739188721"
      ]
     },
     "execution_count": 316,
     "metadata": {},
     "output_type": "execute_result"
    }
   ],
   "source": [
    "alpha"
   ]
  },
  {
   "cell_type": "code",
   "execution_count": 317,
   "id": "d2be2904",
   "metadata": {},
   "outputs": [],
   "source": [
    "model = Ridge(alpha=alpha)\n",
    "model.fit(x_train, y_train)\n",
    "y_pred_linear = model.predict(x_test)"
   ]
  },
  {
   "cell_type": "code",
   "execution_count": 318,
   "id": "94038b0f",
   "metadata": {},
   "outputs": [
    {
     "name": "stdout",
     "output_type": "stream",
     "text": [
      "MSE: 331947831.8550523\n",
      "MAE: 12263.430937434963\n",
      "MAPE: 3.4409336486646245\n"
     ]
    }
   ],
   "source": [
    "print(f\"MSE: {mean_squared_error(y_test, y_pred_linear)}\")\n",
    "print(f\"MAE: {mean_absolute_error(y_test, y_pred_linear)}\")\n",
    "print(f\"MAPE: {mean_absolute_percentage_error(y_test, y_pred_linear)}\")"
   ]
  },
  {
   "cell_type": "markdown",
   "id": "e4443ff1",
   "metadata": {},
   "source": [
    "Вес каждого признака:"
   ]
  },
  {
   "cell_type": "code",
   "execution_count": 319,
   "id": "218c4df5",
   "metadata": {},
   "outputs": [
    {
     "data": {
      "text/html": [
       "<div>\n",
       "<style scoped>\n",
       "    .dataframe tbody tr th:only-of-type {\n",
       "        vertical-align: middle;\n",
       "    }\n",
       "\n",
       "    .dataframe tbody tr th {\n",
       "        vertical-align: top;\n",
       "    }\n",
       "\n",
       "    .dataframe thead th {\n",
       "        text-align: right;\n",
       "    }\n",
       "</style>\n",
       "<table border=\"1\" class=\"dataframe\">\n",
       "  <thead>\n",
       "    <tr style=\"text-align: right;\">\n",
       "      <th></th>\n",
       "      <th>признак</th>\n",
       "      <th>вес</th>\n",
       "    </tr>\n",
       "  </thead>\n",
       "  <tbody>\n",
       "    <tr>\n",
       "      <th>0</th>\n",
       "      <td>age</td>\n",
       "      <td>-6065.079146</td>\n",
       "    </tr>\n",
       "    <tr>\n",
       "      <th>1</th>\n",
       "      <td>height</td>\n",
       "      <td>975.983399</td>\n",
       "    </tr>\n",
       "    <tr>\n",
       "      <th>2</th>\n",
       "      <td>national_matches</td>\n",
       "      <td>6849.301308</td>\n",
       "    </tr>\n",
       "    <tr>\n",
       "      <th>3</th>\n",
       "      <td>national_goals</td>\n",
       "      <td>1471.296410</td>\n",
       "    </tr>\n",
       "    <tr>\n",
       "      <th>4</th>\n",
       "      <td>matches20</td>\n",
       "      <td>4769.368703</td>\n",
       "    </tr>\n",
       "    <tr>\n",
       "      <th>5</th>\n",
       "      <td>goals20</td>\n",
       "      <td>504.072238</td>\n",
       "    </tr>\n",
       "    <tr>\n",
       "      <th>6</th>\n",
       "      <td>assists20</td>\n",
       "      <td>1202.626188</td>\n",
       "    </tr>\n",
       "    <tr>\n",
       "      <th>7</th>\n",
       "      <td>yellow20</td>\n",
       "      <td>-526.807673</td>\n",
       "    </tr>\n",
       "    <tr>\n",
       "      <th>8</th>\n",
       "      <td>double_yellows20</td>\n",
       "      <td>198.432928</td>\n",
       "    </tr>\n",
       "    <tr>\n",
       "      <th>9</th>\n",
       "      <td>red20</td>\n",
       "      <td>-496.221402</td>\n",
       "    </tr>\n",
       "    <tr>\n",
       "      <th>10</th>\n",
       "      <td>matches21</td>\n",
       "      <td>2314.615610</td>\n",
       "    </tr>\n",
       "    <tr>\n",
       "      <th>11</th>\n",
       "      <td>goals21</td>\n",
       "      <td>1412.092926</td>\n",
       "    </tr>\n",
       "    <tr>\n",
       "      <th>12</th>\n",
       "      <td>assists21</td>\n",
       "      <td>966.144994</td>\n",
       "    </tr>\n",
       "    <tr>\n",
       "      <th>13</th>\n",
       "      <td>yellow21</td>\n",
       "      <td>1653.036186</td>\n",
       "    </tr>\n",
       "    <tr>\n",
       "      <th>14</th>\n",
       "      <td>double_yellows21</td>\n",
       "      <td>242.161214</td>\n",
       "    </tr>\n",
       "    <tr>\n",
       "      <th>15</th>\n",
       "      <td>red21</td>\n",
       "      <td>215.285837</td>\n",
       "    </tr>\n",
       "    <tr>\n",
       "      <th>16</th>\n",
       "      <td>matches22</td>\n",
       "      <td>3233.602918</td>\n",
       "    </tr>\n",
       "    <tr>\n",
       "      <th>17</th>\n",
       "      <td>goals22</td>\n",
       "      <td>2274.109311</td>\n",
       "    </tr>\n",
       "    <tr>\n",
       "      <th>18</th>\n",
       "      <td>assists22</td>\n",
       "      <td>1175.975064</td>\n",
       "    </tr>\n",
       "    <tr>\n",
       "      <th>19</th>\n",
       "      <td>yellow22</td>\n",
       "      <td>466.564839</td>\n",
       "    </tr>\n",
       "    <tr>\n",
       "      <th>20</th>\n",
       "      <td>double_yellows22</td>\n",
       "      <td>-822.266862</td>\n",
       "    </tr>\n",
       "    <tr>\n",
       "      <th>21</th>\n",
       "      <td>red22</td>\n",
       "      <td>174.788586</td>\n",
       "    </tr>\n",
       "    <tr>\n",
       "      <th>22</th>\n",
       "      <td>goalkeeper</td>\n",
       "      <td>1533.926704</td>\n",
       "    </tr>\n",
       "    <tr>\n",
       "      <th>23</th>\n",
       "      <td>deff</td>\n",
       "      <td>1509.573736</td>\n",
       "    </tr>\n",
       "    <tr>\n",
       "      <th>24</th>\n",
       "      <td>middle</td>\n",
       "      <td>192.494044</td>\n",
       "    </tr>\n",
       "    <tr>\n",
       "      <th>25</th>\n",
       "      <td>attack</td>\n",
       "      <td>-2307.938663</td>\n",
       "    </tr>\n",
       "    <tr>\n",
       "      <th>26</th>\n",
       "      <td>goal_percentage20</td>\n",
       "      <td>-1027.721350</td>\n",
       "    </tr>\n",
       "    <tr>\n",
       "      <th>27</th>\n",
       "      <td>goal_percentage21</td>\n",
       "      <td>1153.286570</td>\n",
       "    </tr>\n",
       "    <tr>\n",
       "      <th>28</th>\n",
       "      <td>goal_percentage22</td>\n",
       "      <td>382.968394</td>\n",
       "    </tr>\n",
       "    <tr>\n",
       "      <th>29</th>\n",
       "      <td>assists_percentage20</td>\n",
       "      <td>-314.083702</td>\n",
       "    </tr>\n",
       "    <tr>\n",
       "      <th>30</th>\n",
       "      <td>assists_percentage21</td>\n",
       "      <td>263.398195</td>\n",
       "    </tr>\n",
       "    <tr>\n",
       "      <th>31</th>\n",
       "      <td>assists_percentage22</td>\n",
       "      <td>-447.682395</td>\n",
       "    </tr>\n",
       "  </tbody>\n",
       "</table>\n",
       "</div>"
      ],
      "text/plain": [
       "                 признак          вес\n",
       "0                    age -6065.079146\n",
       "1                 height   975.983399\n",
       "2       national_matches  6849.301308\n",
       "3         national_goals  1471.296410\n",
       "4              matches20  4769.368703\n",
       "5                goals20   504.072238\n",
       "6              assists20  1202.626188\n",
       "7               yellow20  -526.807673\n",
       "8       double_yellows20   198.432928\n",
       "9                  red20  -496.221402\n",
       "10             matches21  2314.615610\n",
       "11               goals21  1412.092926\n",
       "12             assists21   966.144994\n",
       "13              yellow21  1653.036186\n",
       "14      double_yellows21   242.161214\n",
       "15                 red21   215.285837\n",
       "16             matches22  3233.602918\n",
       "17               goals22  2274.109311\n",
       "18             assists22  1175.975064\n",
       "19              yellow22   466.564839\n",
       "20      double_yellows22  -822.266862\n",
       "21                 red22   174.788586\n",
       "22            goalkeeper  1533.926704\n",
       "23                  deff  1509.573736\n",
       "24                middle   192.494044\n",
       "25                attack -2307.938663\n",
       "26     goal_percentage20 -1027.721350\n",
       "27     goal_percentage21  1153.286570\n",
       "28     goal_percentage22   382.968394\n",
       "29  assists_percentage20  -314.083702\n",
       "30  assists_percentage21   263.398195\n",
       "31  assists_percentage22  -447.682395"
      ]
     },
     "execution_count": 319,
     "metadata": {},
     "output_type": "execute_result"
    }
   ],
   "source": [
    "pd.DataFrame({\"признак\":np.array(params),\"вес\":model.coef_})"
   ]
  },
  {
   "cell_type": "markdown",
   "id": "f07e40cf",
   "metadata": {},
   "source": [
    "# Выводы:\n",
    "Линейная модель превосходит наивную по метрике MAE. Веса, которые посчитала модель,в основном реалистичны. Голы, ассисты матчи и матчи и голы за национальную сборную сильно позитивно влияют на стоимость. Но есть и необьяснимые показатели. Так, например, двойные желтые карточки за сезон 20 и красные карточки за 22 сезон увеличивают стоимость футболиста, а  процентаж голов за сезон 2020 уменьшает. Модель также считает, что игроки атаки стоят гораздо дешевле остальных, что противоречит изначальным предположениям, выдвинутым на основании графиков.Такой результат может гооворить о нелинейности связей между параметрами и целевой переменной. По модели можно заметить, что важность голевых показателей больше чем больше год, что логично, т.к. нынешнюю форму футболиста лучше отражают показатели последних лет. "
   ]
  },
  {
   "cell_type": "markdown",
   "id": "a4e99e51",
   "metadata": {},
   "source": [
    "# Градиентный бустинг:"
   ]
  },
  {
   "cell_type": "markdown",
   "id": "08312333",
   "metadata": {},
   "source": [
    "Подбираем лучшие параметры для модели."
   ]
  },
  {
   "cell_type": "code",
   "execution_count": 320,
   "id": "f4fb4cae",
   "metadata": {},
   "outputs": [
    {
     "data": {
      "text/html": [
       "<style>#sk-container-id-8 {color: black;background-color: white;}#sk-container-id-8 pre{padding: 0;}#sk-container-id-8 div.sk-toggleable {background-color: white;}#sk-container-id-8 label.sk-toggleable__label {cursor: pointer;display: block;width: 100%;margin-bottom: 0;padding: 0.3em;box-sizing: border-box;text-align: center;}#sk-container-id-8 label.sk-toggleable__label-arrow:before {content: \"▸\";float: left;margin-right: 0.25em;color: #696969;}#sk-container-id-8 label.sk-toggleable__label-arrow:hover:before {color: black;}#sk-container-id-8 div.sk-estimator:hover label.sk-toggleable__label-arrow:before {color: black;}#sk-container-id-8 div.sk-toggleable__content {max-height: 0;max-width: 0;overflow: hidden;text-align: left;background-color: #f0f8ff;}#sk-container-id-8 div.sk-toggleable__content pre {margin: 0.2em;color: black;border-radius: 0.25em;background-color: #f0f8ff;}#sk-container-id-8 input.sk-toggleable__control:checked~div.sk-toggleable__content {max-height: 200px;max-width: 100%;overflow: auto;}#sk-container-id-8 input.sk-toggleable__control:checked~label.sk-toggleable__label-arrow:before {content: \"▾\";}#sk-container-id-8 div.sk-estimator input.sk-toggleable__control:checked~label.sk-toggleable__label {background-color: #d4ebff;}#sk-container-id-8 div.sk-label input.sk-toggleable__control:checked~label.sk-toggleable__label {background-color: #d4ebff;}#sk-container-id-8 input.sk-hidden--visually {border: 0;clip: rect(1px 1px 1px 1px);clip: rect(1px, 1px, 1px, 1px);height: 1px;margin: -1px;overflow: hidden;padding: 0;position: absolute;width: 1px;}#sk-container-id-8 div.sk-estimator {font-family: monospace;background-color: #f0f8ff;border: 1px dotted black;border-radius: 0.25em;box-sizing: border-box;margin-bottom: 0.5em;}#sk-container-id-8 div.sk-estimator:hover {background-color: #d4ebff;}#sk-container-id-8 div.sk-parallel-item::after {content: \"\";width: 100%;border-bottom: 1px solid gray;flex-grow: 1;}#sk-container-id-8 div.sk-label:hover label.sk-toggleable__label {background-color: #d4ebff;}#sk-container-id-8 div.sk-serial::before {content: \"\";position: absolute;border-left: 1px solid gray;box-sizing: border-box;top: 0;bottom: 0;left: 50%;z-index: 0;}#sk-container-id-8 div.sk-serial {display: flex;flex-direction: column;align-items: center;background-color: white;padding-right: 0.2em;padding-left: 0.2em;position: relative;}#sk-container-id-8 div.sk-item {position: relative;z-index: 1;}#sk-container-id-8 div.sk-parallel {display: flex;align-items: stretch;justify-content: center;background-color: white;position: relative;}#sk-container-id-8 div.sk-item::before, #sk-container-id-8 div.sk-parallel-item::before {content: \"\";position: absolute;border-left: 1px solid gray;box-sizing: border-box;top: 0;bottom: 0;left: 50%;z-index: -1;}#sk-container-id-8 div.sk-parallel-item {display: flex;flex-direction: column;z-index: 1;position: relative;background-color: white;}#sk-container-id-8 div.sk-parallel-item:first-child::after {align-self: flex-end;width: 50%;}#sk-container-id-8 div.sk-parallel-item:last-child::after {align-self: flex-start;width: 50%;}#sk-container-id-8 div.sk-parallel-item:only-child::after {width: 0;}#sk-container-id-8 div.sk-dashed-wrapped {border: 1px dashed gray;margin: 0 0.4em 0.5em 0.4em;box-sizing: border-box;padding-bottom: 0.4em;background-color: white;}#sk-container-id-8 div.sk-label label {font-family: monospace;font-weight: bold;display: inline-block;line-height: 1.2em;}#sk-container-id-8 div.sk-label-container {text-align: center;}#sk-container-id-8 div.sk-container {/* jupyter's `normalize.less` sets `[hidden] { display: none; }` but bootstrap.min.css set `[hidden] { display: none !important; }` so we also need the `!important` here to be able to override the default hidden behavior on the sphinx rendered scikit-learn.org. See: https://github.com/scikit-learn/scikit-learn/issues/21755 */display: inline-block !important;position: relative;}#sk-container-id-8 div.sk-text-repr-fallback {display: none;}</style><div id=\"sk-container-id-8\" class=\"sk-top-container\"><div class=\"sk-text-repr-fallback\"><pre>GridSearchCV(cv=10, estimator=GradientBoostingRegressor(), n_jobs=-1,\n",
       "             param_grid={&#x27;learning_rate&#x27;: [0.01, 0.1, 0.5],\n",
       "                         &#x27;max_depth&#x27;: [3, 5, 7],\n",
       "                         &#x27;n_estimators&#x27;: [50, 100, 150]},\n",
       "             scoring=&#x27;neg_mean_absolute_error&#x27;)</pre><b>In a Jupyter environment, please rerun this cell to show the HTML representation or trust the notebook. <br />On GitHub, the HTML representation is unable to render, please try loading this page with nbviewer.org.</b></div><div class=\"sk-container\" hidden><div class=\"sk-item sk-dashed-wrapped\"><div class=\"sk-label-container\"><div class=\"sk-label sk-toggleable\"><input class=\"sk-toggleable__control sk-hidden--visually\" id=\"sk-estimator-id-20\" type=\"checkbox\" ><label for=\"sk-estimator-id-20\" class=\"sk-toggleable__label sk-toggleable__label-arrow\">GridSearchCV</label><div class=\"sk-toggleable__content\"><pre>GridSearchCV(cv=10, estimator=GradientBoostingRegressor(), n_jobs=-1,\n",
       "             param_grid={&#x27;learning_rate&#x27;: [0.01, 0.1, 0.5],\n",
       "                         &#x27;max_depth&#x27;: [3, 5, 7],\n",
       "                         &#x27;n_estimators&#x27;: [50, 100, 150]},\n",
       "             scoring=&#x27;neg_mean_absolute_error&#x27;)</pre></div></div></div><div class=\"sk-parallel\"><div class=\"sk-parallel-item\"><div class=\"sk-item\"><div class=\"sk-label-container\"><div class=\"sk-label sk-toggleable\"><input class=\"sk-toggleable__control sk-hidden--visually\" id=\"sk-estimator-id-21\" type=\"checkbox\" ><label for=\"sk-estimator-id-21\" class=\"sk-toggleable__label sk-toggleable__label-arrow\">estimator: GradientBoostingRegressor</label><div class=\"sk-toggleable__content\"><pre>GradientBoostingRegressor()</pre></div></div></div><div class=\"sk-serial\"><div class=\"sk-item\"><div class=\"sk-estimator sk-toggleable\"><input class=\"sk-toggleable__control sk-hidden--visually\" id=\"sk-estimator-id-22\" type=\"checkbox\" ><label for=\"sk-estimator-id-22\" class=\"sk-toggleable__label sk-toggleable__label-arrow\">GradientBoostingRegressor</label><div class=\"sk-toggleable__content\"><pre>GradientBoostingRegressor()</pre></div></div></div></div></div></div></div></div></div></div>"
      ],
      "text/plain": [
       "GridSearchCV(cv=10, estimator=GradientBoostingRegressor(), n_jobs=-1,\n",
       "             param_grid={'learning_rate': [0.01, 0.1, 0.5],\n",
       "                         'max_depth': [3, 5, 7],\n",
       "                         'n_estimators': [50, 100, 150]},\n",
       "             scoring='neg_mean_absolute_error')"
      ]
     },
     "execution_count": 320,
     "metadata": {},
     "output_type": "execute_result"
    }
   ],
   "source": [
    "params_boost = {\n",
    "    'n_estimators': [50,100,150],\n",
    "    'max_depth': [3,5,7],\n",
    "    'learning_rate': [0.01,0.1,0.5],\n",
    "}\n",
    "model_boost = GradientBoostingRegressor()\n",
    "grid_search = GridSearchCV(estimator=model_boost, param_grid=params_boost, cv=10, n_jobs=-1, scoring='neg_mean_absolute_error')\n",
    "grid_search.fit(x_train, y_train)"
   ]
  },
  {
   "cell_type": "code",
   "execution_count": 321,
   "id": "6aa07551",
   "metadata": {},
   "outputs": [
    {
     "data": {
      "text/plain": [
       "{'learning_rate': 0.1, 'max_depth': 5, 'n_estimators': 100}"
      ]
     },
     "execution_count": 321,
     "metadata": {},
     "output_type": "execute_result"
    }
   ],
   "source": [
    "grid_search.best_params_"
   ]
  },
  {
   "cell_type": "code",
   "execution_count": 322,
   "id": "fdf72cdc",
   "metadata": {},
   "outputs": [],
   "source": [
    "rate = grid_search.best_params_[\"learning_rate\"]\n",
    "depth = grid_search.best_params_[\"max_depth\"]\n",
    "n = grid_search.best_params_[\"n_estimators\"]"
   ]
  },
  {
   "cell_type": "markdown",
   "id": "9e549bde",
   "metadata": {},
   "source": [
    "Обучение модели."
   ]
  },
  {
   "cell_type": "code",
   "execution_count": 323,
   "id": "70c9dbd8",
   "metadata": {},
   "outputs": [],
   "source": [
    "model_boost = GradientBoostingRegressor(n_estimators=n, max_depth=depth, learning_rate=rate, loss='huber')\n",
    "model_boost.fit(x_train, y_train)\n",
    "y_pred_boost = model_boost.predict(x_test)                                        "
   ]
  },
  {
   "cell_type": "code",
   "execution_count": 324,
   "id": "6abfa978",
   "metadata": {},
   "outputs": [
    {
     "name": "stdout",
     "output_type": "stream",
     "text": [
      "MSE: 215903299.03978813\n",
      "MAE: 8725.831399842866\n",
      "MAPE: 1.4462995472980407\n"
     ]
    }
   ],
   "source": [
    "print(f\"MSE: {mean_squared_error(y_test, y_pred_boost)}\")\n",
    "print(f\"MAE: {mean_absolute_error(y_test, y_pred_boost)}\")\n",
    "print(f\"MAPE: {mean_absolute_percentage_error(y_test, y_pred_boost)}\")"
   ]
  },
  {
   "cell_type": "markdown",
   "id": "207f33fd",
   "metadata": {},
   "source": [
    "Вес каждого признака:"
   ]
  },
  {
   "cell_type": "code",
   "execution_count": 329,
   "id": "9eee3617",
   "metadata": {},
   "outputs": [
    {
     "data": {
      "text/html": [
       "<div>\n",
       "<style scoped>\n",
       "    .dataframe tbody tr th:only-of-type {\n",
       "        vertical-align: middle;\n",
       "    }\n",
       "\n",
       "    .dataframe tbody tr th {\n",
       "        vertical-align: top;\n",
       "    }\n",
       "\n",
       "    .dataframe thead th {\n",
       "        text-align: right;\n",
       "    }\n",
       "</style>\n",
       "<table border=\"1\" class=\"dataframe\">\n",
       "  <thead>\n",
       "    <tr style=\"text-align: right;\">\n",
       "      <th></th>\n",
       "      <th>признак</th>\n",
       "      <th>вес</th>\n",
       "    </tr>\n",
       "  </thead>\n",
       "  <tbody>\n",
       "    <tr>\n",
       "      <th>0</th>\n",
       "      <td>age</td>\n",
       "      <td>0.067666</td>\n",
       "    </tr>\n",
       "    <tr>\n",
       "      <th>1</th>\n",
       "      <td>height</td>\n",
       "      <td>0.025790</td>\n",
       "    </tr>\n",
       "    <tr>\n",
       "      <th>2</th>\n",
       "      <td>national_matches</td>\n",
       "      <td>0.370496</td>\n",
       "    </tr>\n",
       "    <tr>\n",
       "      <th>3</th>\n",
       "      <td>national_goals</td>\n",
       "      <td>0.009944</td>\n",
       "    </tr>\n",
       "    <tr>\n",
       "      <th>4</th>\n",
       "      <td>matches20</td>\n",
       "      <td>0.078003</td>\n",
       "    </tr>\n",
       "    <tr>\n",
       "      <th>5</th>\n",
       "      <td>goals20</td>\n",
       "      <td>0.007612</td>\n",
       "    </tr>\n",
       "    <tr>\n",
       "      <th>6</th>\n",
       "      <td>assists20</td>\n",
       "      <td>0.006001</td>\n",
       "    </tr>\n",
       "    <tr>\n",
       "      <th>7</th>\n",
       "      <td>yellow20</td>\n",
       "      <td>0.012154</td>\n",
       "    </tr>\n",
       "    <tr>\n",
       "      <th>8</th>\n",
       "      <td>double_yellows20</td>\n",
       "      <td>0.001910</td>\n",
       "    </tr>\n",
       "    <tr>\n",
       "      <th>9</th>\n",
       "      <td>red20</td>\n",
       "      <td>0.001686</td>\n",
       "    </tr>\n",
       "    <tr>\n",
       "      <th>10</th>\n",
       "      <td>matches21</td>\n",
       "      <td>0.139484</td>\n",
       "    </tr>\n",
       "    <tr>\n",
       "      <th>11</th>\n",
       "      <td>goals21</td>\n",
       "      <td>0.015703</td>\n",
       "    </tr>\n",
       "    <tr>\n",
       "      <th>12</th>\n",
       "      <td>assists21</td>\n",
       "      <td>0.007321</td>\n",
       "    </tr>\n",
       "    <tr>\n",
       "      <th>13</th>\n",
       "      <td>yellow21</td>\n",
       "      <td>0.012602</td>\n",
       "    </tr>\n",
       "    <tr>\n",
       "      <th>14</th>\n",
       "      <td>double_yellows21</td>\n",
       "      <td>0.001461</td>\n",
       "    </tr>\n",
       "    <tr>\n",
       "      <th>15</th>\n",
       "      <td>red21</td>\n",
       "      <td>0.000911</td>\n",
       "    </tr>\n",
       "    <tr>\n",
       "      <th>16</th>\n",
       "      <td>matches22</td>\n",
       "      <td>0.086685</td>\n",
       "    </tr>\n",
       "    <tr>\n",
       "      <th>17</th>\n",
       "      <td>goals22</td>\n",
       "      <td>0.014456</td>\n",
       "    </tr>\n",
       "    <tr>\n",
       "      <th>18</th>\n",
       "      <td>assists22</td>\n",
       "      <td>0.009015</td>\n",
       "    </tr>\n",
       "    <tr>\n",
       "      <th>19</th>\n",
       "      <td>yellow22</td>\n",
       "      <td>0.012168</td>\n",
       "    </tr>\n",
       "    <tr>\n",
       "      <th>20</th>\n",
       "      <td>double_yellows22</td>\n",
       "      <td>0.000643</td>\n",
       "    </tr>\n",
       "    <tr>\n",
       "      <th>21</th>\n",
       "      <td>red22</td>\n",
       "      <td>0.000482</td>\n",
       "    </tr>\n",
       "    <tr>\n",
       "      <th>22</th>\n",
       "      <td>goalkeeper</td>\n",
       "      <td>0.000000</td>\n",
       "    </tr>\n",
       "    <tr>\n",
       "      <th>23</th>\n",
       "      <td>deff</td>\n",
       "      <td>0.004660</td>\n",
       "    </tr>\n",
       "    <tr>\n",
       "      <th>24</th>\n",
       "      <td>middle</td>\n",
       "      <td>0.000969</td>\n",
       "    </tr>\n",
       "    <tr>\n",
       "      <th>25</th>\n",
       "      <td>attack</td>\n",
       "      <td>0.005703</td>\n",
       "    </tr>\n",
       "    <tr>\n",
       "      <th>26</th>\n",
       "      <td>goal_percentage20</td>\n",
       "      <td>0.009705</td>\n",
       "    </tr>\n",
       "    <tr>\n",
       "      <th>27</th>\n",
       "      <td>goal_percentage21</td>\n",
       "      <td>0.013171</td>\n",
       "    </tr>\n",
       "    <tr>\n",
       "      <th>28</th>\n",
       "      <td>goal_percentage22</td>\n",
       "      <td>0.014844</td>\n",
       "    </tr>\n",
       "    <tr>\n",
       "      <th>29</th>\n",
       "      <td>assists_percentage20</td>\n",
       "      <td>0.019252</td>\n",
       "    </tr>\n",
       "    <tr>\n",
       "      <th>30</th>\n",
       "      <td>assists_percentage21</td>\n",
       "      <td>0.034621</td>\n",
       "    </tr>\n",
       "    <tr>\n",
       "      <th>31</th>\n",
       "      <td>assists_percentage22</td>\n",
       "      <td>0.014884</td>\n",
       "    </tr>\n",
       "  </tbody>\n",
       "</table>\n",
       "</div>"
      ],
      "text/plain": [
       "                 признак       вес\n",
       "0                    age  0.067666\n",
       "1                 height  0.025790\n",
       "2       national_matches  0.370496\n",
       "3         national_goals  0.009944\n",
       "4              matches20  0.078003\n",
       "5                goals20  0.007612\n",
       "6              assists20  0.006001\n",
       "7               yellow20  0.012154\n",
       "8       double_yellows20  0.001910\n",
       "9                  red20  0.001686\n",
       "10             matches21  0.139484\n",
       "11               goals21  0.015703\n",
       "12             assists21  0.007321\n",
       "13              yellow21  0.012602\n",
       "14      double_yellows21  0.001461\n",
       "15                 red21  0.000911\n",
       "16             matches22  0.086685\n",
       "17               goals22  0.014456\n",
       "18             assists22  0.009015\n",
       "19              yellow22  0.012168\n",
       "20      double_yellows22  0.000643\n",
       "21                 red22  0.000482\n",
       "22            goalkeeper  0.000000\n",
       "23                  deff  0.004660\n",
       "24                middle  0.000969\n",
       "25                attack  0.005703\n",
       "26     goal_percentage20  0.009705\n",
       "27     goal_percentage21  0.013171\n",
       "28     goal_percentage22  0.014844\n",
       "29  assists_percentage20  0.019252\n",
       "30  assists_percentage21  0.034621\n",
       "31  assists_percentage22  0.014884"
      ]
     },
     "execution_count": 329,
     "metadata": {},
     "output_type": "execute_result"
    }
   ],
   "source": [
    "pd.DataFrame({\"признак\":np.array(params),\"вес\":model_boost.feature_importances_})"
   ]
  },
  {
   "cell_type": "markdown",
   "id": "21ba74a6",
   "metadata": {},
   "source": [
    "# Выводы:\n",
    "Модель превосходит и наивную модель и линейную по метрике MAE. Результативные веса признаков выглядят более реалистично(принадлежность игрока линии атаки добавляет ему стоимости, карточки имеют относительно небольшой вес, т.к. это достаточно редкое явление на футбольном матче и т.п.). Самым влиятельным признаком, в соответствии с данной моделью, является количство матчей за национальную сборную. Большее влияние матчей, сыгранных в 21 году чем матчей, сыгранных в 22 можно  обьяснить тем, что рыночная стоимость еще не подстроилась под изменения в статистике футболиста на данный сезон и в большей степени опирается на прошлый. "
   ]
  },
  {
   "cell_type": "markdown",
   "id": "cad99354",
   "metadata": {},
   "source": [
    "# Случайный лес:"
   ]
  },
  {
   "cell_type": "markdown",
   "id": "11e52393",
   "metadata": {},
   "source": [
    "Подбираем опттмальные параметры для модели."
   ]
  },
  {
   "cell_type": "code",
   "execution_count": 330,
   "id": "7d7363da",
   "metadata": {},
   "outputs": [],
   "source": [
    "params_for_forest = {\n",
    "    \"n_estimators\": np.linspace(100, 1000, 20, dtype=int),\n",
    "    \"max_features\": ['log2', 'sqrt'],\n",
    "    \"max_depth\": np.linspace(1, 15, 15, dtype=int),\n",
    "    \"min_samples_split\": np.linspace(2, 50, 10, dtype=int),\n",
    "    \"min_samples_leaf\": np.linspace(2, 50, 10, dtype=int),\n",
    "    \"bootstrap\": [True, False]\n",
    "    }"
   ]
  },
  {
   "cell_type": "code",
   "execution_count": 331,
   "id": "e08fdb4a",
   "metadata": {},
   "outputs": [
    {
     "name": "stdout",
     "output_type": "stream",
     "text": [
      "Fitting 4 folds for each of 100 candidates, totalling 400 fits\n"
     ]
    },
    {
     "data": {
      "text/html": [
       "<style>#sk-container-id-9 {color: black;background-color: white;}#sk-container-id-9 pre{padding: 0;}#sk-container-id-9 div.sk-toggleable {background-color: white;}#sk-container-id-9 label.sk-toggleable__label {cursor: pointer;display: block;width: 100%;margin-bottom: 0;padding: 0.3em;box-sizing: border-box;text-align: center;}#sk-container-id-9 label.sk-toggleable__label-arrow:before {content: \"▸\";float: left;margin-right: 0.25em;color: #696969;}#sk-container-id-9 label.sk-toggleable__label-arrow:hover:before {color: black;}#sk-container-id-9 div.sk-estimator:hover label.sk-toggleable__label-arrow:before {color: black;}#sk-container-id-9 div.sk-toggleable__content {max-height: 0;max-width: 0;overflow: hidden;text-align: left;background-color: #f0f8ff;}#sk-container-id-9 div.sk-toggleable__content pre {margin: 0.2em;color: black;border-radius: 0.25em;background-color: #f0f8ff;}#sk-container-id-9 input.sk-toggleable__control:checked~div.sk-toggleable__content {max-height: 200px;max-width: 100%;overflow: auto;}#sk-container-id-9 input.sk-toggleable__control:checked~label.sk-toggleable__label-arrow:before {content: \"▾\";}#sk-container-id-9 div.sk-estimator input.sk-toggleable__control:checked~label.sk-toggleable__label {background-color: #d4ebff;}#sk-container-id-9 div.sk-label input.sk-toggleable__control:checked~label.sk-toggleable__label {background-color: #d4ebff;}#sk-container-id-9 input.sk-hidden--visually {border: 0;clip: rect(1px 1px 1px 1px);clip: rect(1px, 1px, 1px, 1px);height: 1px;margin: -1px;overflow: hidden;padding: 0;position: absolute;width: 1px;}#sk-container-id-9 div.sk-estimator {font-family: monospace;background-color: #f0f8ff;border: 1px dotted black;border-radius: 0.25em;box-sizing: border-box;margin-bottom: 0.5em;}#sk-container-id-9 div.sk-estimator:hover {background-color: #d4ebff;}#sk-container-id-9 div.sk-parallel-item::after {content: \"\";width: 100%;border-bottom: 1px solid gray;flex-grow: 1;}#sk-container-id-9 div.sk-label:hover label.sk-toggleable__label {background-color: #d4ebff;}#sk-container-id-9 div.sk-serial::before {content: \"\";position: absolute;border-left: 1px solid gray;box-sizing: border-box;top: 0;bottom: 0;left: 50%;z-index: 0;}#sk-container-id-9 div.sk-serial {display: flex;flex-direction: column;align-items: center;background-color: white;padding-right: 0.2em;padding-left: 0.2em;position: relative;}#sk-container-id-9 div.sk-item {position: relative;z-index: 1;}#sk-container-id-9 div.sk-parallel {display: flex;align-items: stretch;justify-content: center;background-color: white;position: relative;}#sk-container-id-9 div.sk-item::before, #sk-container-id-9 div.sk-parallel-item::before {content: \"\";position: absolute;border-left: 1px solid gray;box-sizing: border-box;top: 0;bottom: 0;left: 50%;z-index: -1;}#sk-container-id-9 div.sk-parallel-item {display: flex;flex-direction: column;z-index: 1;position: relative;background-color: white;}#sk-container-id-9 div.sk-parallel-item:first-child::after {align-self: flex-end;width: 50%;}#sk-container-id-9 div.sk-parallel-item:last-child::after {align-self: flex-start;width: 50%;}#sk-container-id-9 div.sk-parallel-item:only-child::after {width: 0;}#sk-container-id-9 div.sk-dashed-wrapped {border: 1px dashed gray;margin: 0 0.4em 0.5em 0.4em;box-sizing: border-box;padding-bottom: 0.4em;background-color: white;}#sk-container-id-9 div.sk-label label {font-family: monospace;font-weight: bold;display: inline-block;line-height: 1.2em;}#sk-container-id-9 div.sk-label-container {text-align: center;}#sk-container-id-9 div.sk-container {/* jupyter's `normalize.less` sets `[hidden] { display: none; }` but bootstrap.min.css set `[hidden] { display: none !important; }` so we also need the `!important` here to be able to override the default hidden behavior on the sphinx rendered scikit-learn.org. See: https://github.com/scikit-learn/scikit-learn/issues/21755 */display: inline-block !important;position: relative;}#sk-container-id-9 div.sk-text-repr-fallback {display: none;}</style><div id=\"sk-container-id-9\" class=\"sk-top-container\"><div class=\"sk-text-repr-fallback\"><pre>RandomizedSearchCV(cv=4, estimator=RandomForestRegressor(), n_iter=100,\n",
       "                   n_jobs=-1,\n",
       "                   param_distributions={&#x27;bootstrap&#x27;: [True, False],\n",
       "                                        &#x27;max_depth&#x27;: array([ 1,  2,  3,  4,  5,  6,  7,  8,  9, 10, 11, 12, 13, 14, 15]),\n",
       "                                        &#x27;max_features&#x27;: [&#x27;log2&#x27;, &#x27;sqrt&#x27;],\n",
       "                                        &#x27;min_samples_leaf&#x27;: array([ 2,  7, 12, 18, 23, 28, 34, 39, 44, 50]),\n",
       "                                        &#x27;min_samples_split&#x27;: array([ 2,  7, 12, 18, 23, 28, 34, 39, 44, 50]),\n",
       "                                        &#x27;n_estimators&#x27;: array([ 100,  147,  194,  242,  289,  336,  384,  431,  478,  526,  573,\n",
       "        621,  668,  715,  763,  810,  857,  905,  952, 1000])},\n",
       "                   random_state=0, scoring=&#x27;roc_auc&#x27;, verbose=1)</pre><b>In a Jupyter environment, please rerun this cell to show the HTML representation or trust the notebook. <br />On GitHub, the HTML representation is unable to render, please try loading this page with nbviewer.org.</b></div><div class=\"sk-container\" hidden><div class=\"sk-item sk-dashed-wrapped\"><div class=\"sk-label-container\"><div class=\"sk-label sk-toggleable\"><input class=\"sk-toggleable__control sk-hidden--visually\" id=\"sk-estimator-id-23\" type=\"checkbox\" ><label for=\"sk-estimator-id-23\" class=\"sk-toggleable__label sk-toggleable__label-arrow\">RandomizedSearchCV</label><div class=\"sk-toggleable__content\"><pre>RandomizedSearchCV(cv=4, estimator=RandomForestRegressor(), n_iter=100,\n",
       "                   n_jobs=-1,\n",
       "                   param_distributions={&#x27;bootstrap&#x27;: [True, False],\n",
       "                                        &#x27;max_depth&#x27;: array([ 1,  2,  3,  4,  5,  6,  7,  8,  9, 10, 11, 12, 13, 14, 15]),\n",
       "                                        &#x27;max_features&#x27;: [&#x27;log2&#x27;, &#x27;sqrt&#x27;],\n",
       "                                        &#x27;min_samples_leaf&#x27;: array([ 2,  7, 12, 18, 23, 28, 34, 39, 44, 50]),\n",
       "                                        &#x27;min_samples_split&#x27;: array([ 2,  7, 12, 18, 23, 28, 34, 39, 44, 50]),\n",
       "                                        &#x27;n_estimators&#x27;: array([ 100,  147,  194,  242,  289,  336,  384,  431,  478,  526,  573,\n",
       "        621,  668,  715,  763,  810,  857,  905,  952, 1000])},\n",
       "                   random_state=0, scoring=&#x27;roc_auc&#x27;, verbose=1)</pre></div></div></div><div class=\"sk-parallel\"><div class=\"sk-parallel-item\"><div class=\"sk-item\"><div class=\"sk-label-container\"><div class=\"sk-label sk-toggleable\"><input class=\"sk-toggleable__control sk-hidden--visually\" id=\"sk-estimator-id-24\" type=\"checkbox\" ><label for=\"sk-estimator-id-24\" class=\"sk-toggleable__label sk-toggleable__label-arrow\">estimator: RandomForestRegressor</label><div class=\"sk-toggleable__content\"><pre>RandomForestRegressor()</pre></div></div></div><div class=\"sk-serial\"><div class=\"sk-item\"><div class=\"sk-estimator sk-toggleable\"><input class=\"sk-toggleable__control sk-hidden--visually\" id=\"sk-estimator-id-25\" type=\"checkbox\" ><label for=\"sk-estimator-id-25\" class=\"sk-toggleable__label sk-toggleable__label-arrow\">RandomForestRegressor</label><div class=\"sk-toggleable__content\"><pre>RandomForestRegressor()</pre></div></div></div></div></div></div></div></div></div></div>"
      ],
      "text/plain": [
       "RandomizedSearchCV(cv=4, estimator=RandomForestRegressor(), n_iter=100,\n",
       "                   n_jobs=-1,\n",
       "                   param_distributions={'bootstrap': [True, False],\n",
       "                                        'max_depth': array([ 1,  2,  3,  4,  5,  6,  7,  8,  9, 10, 11, 12, 13, 14, 15]),\n",
       "                                        'max_features': ['log2', 'sqrt'],\n",
       "                                        'min_samples_leaf': array([ 2,  7, 12, 18, 23, 28, 34, 39, 44, 50]),\n",
       "                                        'min_samples_split': array([ 2,  7, 12, 18, 23, 28, 34, 39, 44, 50]),\n",
       "                                        'n_estimators': array([ 100,  147,  194,  242,  289,  336,  384,  431,  478,  526,  573,\n",
       "        621,  668,  715,  763,  810,  857,  905,  952, 1000])},\n",
       "                   random_state=0, scoring='roc_auc', verbose=1)"
      ]
     },
     "execution_count": 331,
     "metadata": {},
     "output_type": "execute_result"
    }
   ],
   "source": [
    "searcher_forest = RandomizedSearchCV(RandomForestRegressor(),\n",
    "                                     params_for_forest,\n",
    "                                     n_iter=100,\n",
    "                                     cv=4,\n",
    "                                     scoring='roc_auc',\n",
    "                                     n_jobs=-1,\n",
    "                                     random_state=0,\n",
    "                                     verbose=1)\n",
    "searcher_forest.fit(x_train, y_train)"
   ]
  },
  {
   "cell_type": "code",
   "execution_count": 332,
   "id": "0d2ae071",
   "metadata": {},
   "outputs": [
    {
     "data": {
      "text/plain": [
       "{'n_estimators': 478,\n",
       " 'min_samples_split': 18,\n",
       " 'min_samples_leaf': 7,\n",
       " 'max_features': 'log2',\n",
       " 'max_depth': 3,\n",
       " 'bootstrap': False}"
      ]
     },
     "execution_count": 332,
     "metadata": {},
     "output_type": "execute_result"
    }
   ],
   "source": [
    "searcher_forest.best_params_"
   ]
  },
  {
   "cell_type": "code",
   "execution_count": 333,
   "id": "e4e440f6",
   "metadata": {},
   "outputs": [],
   "source": [
    "n_estimators = searcher_forest.best_params_[\"n_estimators\"]\n",
    "max_features = searcher_forest.best_params_[\"max_features\"]\n",
    "max_depth = searcher_forest.best_params_[\"max_depth\"]\n",
    "min_samples_split = searcher_forest.best_params_[\"min_samples_split\"]\n",
    "min_samples_leaf = searcher_forest.best_params_[\"min_samples_leaf\"]\n",
    "bootstrap = searcher_forest.best_params_[\"bootstrap\"]"
   ]
  },
  {
   "cell_type": "markdown",
   "id": "53307c6c",
   "metadata": {},
   "source": [
    "Обучаем модель."
   ]
  },
  {
   "cell_type": "code",
   "execution_count": 334,
   "id": "9b355430",
   "metadata": {},
   "outputs": [
    {
     "data": {
      "text/html": [
       "<style>#sk-container-id-10 {color: black;background-color: white;}#sk-container-id-10 pre{padding: 0;}#sk-container-id-10 div.sk-toggleable {background-color: white;}#sk-container-id-10 label.sk-toggleable__label {cursor: pointer;display: block;width: 100%;margin-bottom: 0;padding: 0.3em;box-sizing: border-box;text-align: center;}#sk-container-id-10 label.sk-toggleable__label-arrow:before {content: \"▸\";float: left;margin-right: 0.25em;color: #696969;}#sk-container-id-10 label.sk-toggleable__label-arrow:hover:before {color: black;}#sk-container-id-10 div.sk-estimator:hover label.sk-toggleable__label-arrow:before {color: black;}#sk-container-id-10 div.sk-toggleable__content {max-height: 0;max-width: 0;overflow: hidden;text-align: left;background-color: #f0f8ff;}#sk-container-id-10 div.sk-toggleable__content pre {margin: 0.2em;color: black;border-radius: 0.25em;background-color: #f0f8ff;}#sk-container-id-10 input.sk-toggleable__control:checked~div.sk-toggleable__content {max-height: 200px;max-width: 100%;overflow: auto;}#sk-container-id-10 input.sk-toggleable__control:checked~label.sk-toggleable__label-arrow:before {content: \"▾\";}#sk-container-id-10 div.sk-estimator input.sk-toggleable__control:checked~label.sk-toggleable__label {background-color: #d4ebff;}#sk-container-id-10 div.sk-label input.sk-toggleable__control:checked~label.sk-toggleable__label {background-color: #d4ebff;}#sk-container-id-10 input.sk-hidden--visually {border: 0;clip: rect(1px 1px 1px 1px);clip: rect(1px, 1px, 1px, 1px);height: 1px;margin: -1px;overflow: hidden;padding: 0;position: absolute;width: 1px;}#sk-container-id-10 div.sk-estimator {font-family: monospace;background-color: #f0f8ff;border: 1px dotted black;border-radius: 0.25em;box-sizing: border-box;margin-bottom: 0.5em;}#sk-container-id-10 div.sk-estimator:hover {background-color: #d4ebff;}#sk-container-id-10 div.sk-parallel-item::after {content: \"\";width: 100%;border-bottom: 1px solid gray;flex-grow: 1;}#sk-container-id-10 div.sk-label:hover label.sk-toggleable__label {background-color: #d4ebff;}#sk-container-id-10 div.sk-serial::before {content: \"\";position: absolute;border-left: 1px solid gray;box-sizing: border-box;top: 0;bottom: 0;left: 50%;z-index: 0;}#sk-container-id-10 div.sk-serial {display: flex;flex-direction: column;align-items: center;background-color: white;padding-right: 0.2em;padding-left: 0.2em;position: relative;}#sk-container-id-10 div.sk-item {position: relative;z-index: 1;}#sk-container-id-10 div.sk-parallel {display: flex;align-items: stretch;justify-content: center;background-color: white;position: relative;}#sk-container-id-10 div.sk-item::before, #sk-container-id-10 div.sk-parallel-item::before {content: \"\";position: absolute;border-left: 1px solid gray;box-sizing: border-box;top: 0;bottom: 0;left: 50%;z-index: -1;}#sk-container-id-10 div.sk-parallel-item {display: flex;flex-direction: column;z-index: 1;position: relative;background-color: white;}#sk-container-id-10 div.sk-parallel-item:first-child::after {align-self: flex-end;width: 50%;}#sk-container-id-10 div.sk-parallel-item:last-child::after {align-self: flex-start;width: 50%;}#sk-container-id-10 div.sk-parallel-item:only-child::after {width: 0;}#sk-container-id-10 div.sk-dashed-wrapped {border: 1px dashed gray;margin: 0 0.4em 0.5em 0.4em;box-sizing: border-box;padding-bottom: 0.4em;background-color: white;}#sk-container-id-10 div.sk-label label {font-family: monospace;font-weight: bold;display: inline-block;line-height: 1.2em;}#sk-container-id-10 div.sk-label-container {text-align: center;}#sk-container-id-10 div.sk-container {/* jupyter's `normalize.less` sets `[hidden] { display: none; }` but bootstrap.min.css set `[hidden] { display: none !important; }` so we also need the `!important` here to be able to override the default hidden behavior on the sphinx rendered scikit-learn.org. See: https://github.com/scikit-learn/scikit-learn/issues/21755 */display: inline-block !important;position: relative;}#sk-container-id-10 div.sk-text-repr-fallback {display: none;}</style><div id=\"sk-container-id-10\" class=\"sk-top-container\"><div class=\"sk-text-repr-fallback\"><pre>RandomForestRegressor(bootstrap=False, max_depth=3, max_features=&#x27;log2&#x27;,\n",
       "                      min_samples_leaf=7, min_samples_split=18,\n",
       "                      n_estimators=478)</pre><b>In a Jupyter environment, please rerun this cell to show the HTML representation or trust the notebook. <br />On GitHub, the HTML representation is unable to render, please try loading this page with nbviewer.org.</b></div><div class=\"sk-container\" hidden><div class=\"sk-item\"><div class=\"sk-estimator sk-toggleable\"><input class=\"sk-toggleable__control sk-hidden--visually\" id=\"sk-estimator-id-26\" type=\"checkbox\" checked><label for=\"sk-estimator-id-26\" class=\"sk-toggleable__label sk-toggleable__label-arrow\">RandomForestRegressor</label><div class=\"sk-toggleable__content\"><pre>RandomForestRegressor(bootstrap=False, max_depth=3, max_features=&#x27;log2&#x27;,\n",
       "                      min_samples_leaf=7, min_samples_split=18,\n",
       "                      n_estimators=478)</pre></div></div></div></div></div>"
      ],
      "text/plain": [
       "RandomForestRegressor(bootstrap=False, max_depth=3, max_features='log2',\n",
       "                      min_samples_leaf=7, min_samples_split=18,\n",
       "                      n_estimators=478)"
      ]
     },
     "execution_count": 334,
     "metadata": {},
     "output_type": "execute_result"
    }
   ],
   "source": [
    "forest = RandomForestRegressor(n_estimators=n_estimators,\n",
    "                             min_samples_split=min_samples_split,\n",
    "                             min_samples_leaf=min_samples_leaf, max_features=max_features,\n",
    "                             max_depth=max_depth,\n",
    "                             bootstrap=bootstrap)\n",
    "forest.fit(x_train, y_train)"
   ]
  },
  {
   "cell_type": "code",
   "execution_count": 335,
   "id": "d2bb553e",
   "metadata": {},
   "outputs": [],
   "source": [
    "y_pred = forest.predict(x_test)"
   ]
  },
  {
   "cell_type": "code",
   "execution_count": 336,
   "id": "007f2103",
   "metadata": {},
   "outputs": [
    {
     "name": "stdout",
     "output_type": "stream",
     "text": [
      "MSE: 359059552.7895552\n",
      "MAE: 12993.070762355135\n",
      "MAPE: 3.7707649012505295\n"
     ]
    }
   ],
   "source": [
    "print(f\"MSE: {mean_squared_error(y_test, y_pred)}\")\n",
    "print(f\"MAE: {mean_absolute_error(y_test, y_pred)}\")\n",
    "print(f\"MAPE: {mean_absolute_percentage_error(y_test, y_pred)}\")"
   ]
  },
  {
   "cell_type": "markdown",
   "id": "8f788d57",
   "metadata": {},
   "source": [
    "Вес каждого признака:"
   ]
  },
  {
   "cell_type": "code",
   "execution_count": 337,
   "id": "1cf63e77",
   "metadata": {},
   "outputs": [
    {
     "data": {
      "text/html": [
       "<div>\n",
       "<style scoped>\n",
       "    .dataframe tbody tr th:only-of-type {\n",
       "        vertical-align: middle;\n",
       "    }\n",
       "\n",
       "    .dataframe tbody tr th {\n",
       "        vertical-align: top;\n",
       "    }\n",
       "\n",
       "    .dataframe thead th {\n",
       "        text-align: right;\n",
       "    }\n",
       "</style>\n",
       "<table border=\"1\" class=\"dataframe\">\n",
       "  <thead>\n",
       "    <tr style=\"text-align: right;\">\n",
       "      <th></th>\n",
       "      <th>признак</th>\n",
       "      <th>вес</th>\n",
       "    </tr>\n",
       "  </thead>\n",
       "  <tbody>\n",
       "    <tr>\n",
       "      <th>0</th>\n",
       "      <td>age</td>\n",
       "      <td>0.019839</td>\n",
       "    </tr>\n",
       "    <tr>\n",
       "      <th>1</th>\n",
       "      <td>height</td>\n",
       "      <td>0.001819</td>\n",
       "    </tr>\n",
       "    <tr>\n",
       "      <th>2</th>\n",
       "      <td>national_matches</td>\n",
       "      <td>0.218235</td>\n",
       "    </tr>\n",
       "    <tr>\n",
       "      <th>3</th>\n",
       "      <td>national_goals</td>\n",
       "      <td>0.101135</td>\n",
       "    </tr>\n",
       "    <tr>\n",
       "      <th>4</th>\n",
       "      <td>matches20</td>\n",
       "      <td>0.084048</td>\n",
       "    </tr>\n",
       "    <tr>\n",
       "      <th>5</th>\n",
       "      <td>goals20</td>\n",
       "      <td>0.019337</td>\n",
       "    </tr>\n",
       "    <tr>\n",
       "      <th>6</th>\n",
       "      <td>assists20</td>\n",
       "      <td>0.028693</td>\n",
       "    </tr>\n",
       "    <tr>\n",
       "      <th>7</th>\n",
       "      <td>yellow20</td>\n",
       "      <td>0.002298</td>\n",
       "    </tr>\n",
       "    <tr>\n",
       "      <th>8</th>\n",
       "      <td>double_yellows20</td>\n",
       "      <td>0.001734</td>\n",
       "    </tr>\n",
       "    <tr>\n",
       "      <th>9</th>\n",
       "      <td>red20</td>\n",
       "      <td>0.000057</td>\n",
       "    </tr>\n",
       "    <tr>\n",
       "      <th>10</th>\n",
       "      <td>matches21</td>\n",
       "      <td>0.156579</td>\n",
       "    </tr>\n",
       "    <tr>\n",
       "      <th>11</th>\n",
       "      <td>goals21</td>\n",
       "      <td>0.020634</td>\n",
       "    </tr>\n",
       "    <tr>\n",
       "      <th>12</th>\n",
       "      <td>assists21</td>\n",
       "      <td>0.042939</td>\n",
       "    </tr>\n",
       "    <tr>\n",
       "      <th>13</th>\n",
       "      <td>yellow21</td>\n",
       "      <td>0.006453</td>\n",
       "    </tr>\n",
       "    <tr>\n",
       "      <th>14</th>\n",
       "      <td>double_yellows21</td>\n",
       "      <td>0.000000</td>\n",
       "    </tr>\n",
       "    <tr>\n",
       "      <th>15</th>\n",
       "      <td>red21</td>\n",
       "      <td>0.000074</td>\n",
       "    </tr>\n",
       "    <tr>\n",
       "      <th>16</th>\n",
       "      <td>matches22</td>\n",
       "      <td>0.113747</td>\n",
       "    </tr>\n",
       "    <tr>\n",
       "      <th>17</th>\n",
       "      <td>goals22</td>\n",
       "      <td>0.054678</td>\n",
       "    </tr>\n",
       "    <tr>\n",
       "      <th>18</th>\n",
       "      <td>assists22</td>\n",
       "      <td>0.030703</td>\n",
       "    </tr>\n",
       "    <tr>\n",
       "      <th>19</th>\n",
       "      <td>yellow22</td>\n",
       "      <td>0.004837</td>\n",
       "    </tr>\n",
       "    <tr>\n",
       "      <th>20</th>\n",
       "      <td>double_yellows22</td>\n",
       "      <td>0.000000</td>\n",
       "    </tr>\n",
       "    <tr>\n",
       "      <th>21</th>\n",
       "      <td>red22</td>\n",
       "      <td>0.000040</td>\n",
       "    </tr>\n",
       "    <tr>\n",
       "      <th>22</th>\n",
       "      <td>goalkeeper</td>\n",
       "      <td>0.000032</td>\n",
       "    </tr>\n",
       "    <tr>\n",
       "      <th>23</th>\n",
       "      <td>deff</td>\n",
       "      <td>0.000175</td>\n",
       "    </tr>\n",
       "    <tr>\n",
       "      <th>24</th>\n",
       "      <td>middle</td>\n",
       "      <td>0.000212</td>\n",
       "    </tr>\n",
       "    <tr>\n",
       "      <th>25</th>\n",
       "      <td>attack</td>\n",
       "      <td>0.001333</td>\n",
       "    </tr>\n",
       "    <tr>\n",
       "      <th>26</th>\n",
       "      <td>goal_percentage20</td>\n",
       "      <td>0.005678</td>\n",
       "    </tr>\n",
       "    <tr>\n",
       "      <th>27</th>\n",
       "      <td>goal_percentage21</td>\n",
       "      <td>0.014438</td>\n",
       "    </tr>\n",
       "    <tr>\n",
       "      <th>28</th>\n",
       "      <td>goal_percentage22</td>\n",
       "      <td>0.035523</td>\n",
       "    </tr>\n",
       "    <tr>\n",
       "      <th>29</th>\n",
       "      <td>assists_percentage20</td>\n",
       "      <td>0.008040</td>\n",
       "    </tr>\n",
       "    <tr>\n",
       "      <th>30</th>\n",
       "      <td>assists_percentage21</td>\n",
       "      <td>0.009877</td>\n",
       "    </tr>\n",
       "    <tr>\n",
       "      <th>31</th>\n",
       "      <td>assists_percentage22</td>\n",
       "      <td>0.016813</td>\n",
       "    </tr>\n",
       "  </tbody>\n",
       "</table>\n",
       "</div>"
      ],
      "text/plain": [
       "                 признак       вес\n",
       "0                    age  0.019839\n",
       "1                 height  0.001819\n",
       "2       national_matches  0.218235\n",
       "3         national_goals  0.101135\n",
       "4              matches20  0.084048\n",
       "5                goals20  0.019337\n",
       "6              assists20  0.028693\n",
       "7               yellow20  0.002298\n",
       "8       double_yellows20  0.001734\n",
       "9                  red20  0.000057\n",
       "10             matches21  0.156579\n",
       "11               goals21  0.020634\n",
       "12             assists21  0.042939\n",
       "13              yellow21  0.006453\n",
       "14      double_yellows21  0.000000\n",
       "15                 red21  0.000074\n",
       "16             matches22  0.113747\n",
       "17               goals22  0.054678\n",
       "18             assists22  0.030703\n",
       "19              yellow22  0.004837\n",
       "20      double_yellows22  0.000000\n",
       "21                 red22  0.000040\n",
       "22            goalkeeper  0.000032\n",
       "23                  deff  0.000175\n",
       "24                middle  0.000212\n",
       "25                attack  0.001333\n",
       "26     goal_percentage20  0.005678\n",
       "27     goal_percentage21  0.014438\n",
       "28     goal_percentage22  0.035523\n",
       "29  assists_percentage20  0.008040\n",
       "30  assists_percentage21  0.009877\n",
       "31  assists_percentage22  0.016813"
      ]
     },
     "execution_count": 337,
     "metadata": {},
     "output_type": "execute_result"
    }
   ],
   "source": [
    "pd.DataFrame({\"признак\":np.array(params),\"вес\":forest.feature_importances_})"
   ]
  },
  {
   "cell_type": "markdown",
   "id": "b6d73b1b",
   "metadata": {},
   "source": [
    "# Выводы:\n",
    "Модель случайного леса показала реузльтаты MAE хуже чем у линейной модели и модели бустинга. Но также как и в предыдущих моделях одни из главных признаков модель считает количество матчей за национальную сборную. Также как и модель бустинга модель случайного леса считает, что игроки линии атаки при прочих равных стоят дороже остальных."
   ]
  },
  {
   "cell_type": "markdown",
   "id": "4d458bf6",
   "metadata": {},
   "source": [
    "# Общие выводы:\n",
    "Лучше всего себя показала модель градиентного бустинга. Но даже ее результаты сложно назвать точными. Причины этого, возможно в недостаточном количестве данных."
   ]
  },
  {
   "cell_type": "code",
   "execution_count": null,
   "id": "7de2d298",
   "metadata": {},
   "outputs": [],
   "source": []
  }
 ],
 "metadata": {
  "kernelspec": {
   "display_name": "Python 3 (ipykernel)",
   "language": "python",
   "name": "python3"
  },
  "language_info": {
   "codemirror_mode": {
    "name": "ipython",
    "version": 3
   },
   "file_extension": ".py",
   "mimetype": "text/x-python",
   "name": "python",
   "nbconvert_exporter": "python",
   "pygments_lexer": "ipython3",
   "version": "3.9.13"
  }
 },
 "nbformat": 4,
 "nbformat_minor": 5
}

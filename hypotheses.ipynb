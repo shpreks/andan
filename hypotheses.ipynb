{
 "cells": [
  {
   "cell_type": "code",
   "execution_count": 24,
   "id": "32deddab",
   "metadata": {},
   "outputs": [],
   "source": [
    "import pandas as pd \n",
    "import numpy as np\n",
    "import scipy.stats as sts\n",
    "import warnings\n",
    "warnings.filterwarnings(\"ignore\")\n",
    "from scipy.stats import chi2_contingency"
   ]
  },
  {
   "cell_type": "code",
   "execution_count": 3,
   "id": "5ce7ec86",
   "metadata": {},
   "outputs": [],
   "source": [
    "df = pd.read_csv(\"new_data.csv\")"
   ]
  },
  {
   "cell_type": "markdown",
   "id": "2b04caa7",
   "metadata": {},
   "source": [
    "# Гипотеза № 1:\n",
    "Судя по графику зависимости стоимости от позиции игрока самыми дорогими игроками выступают игроки нападения. Можно предположить, что игроки нападения в среднем стоят дороже игроков защиты.\n",
    "\\begin{aligned}\n",
    "& H_0: \\mu_{attack} = \\mu_{deff} \\\\\n",
    "& H_1: \\mu_{attack} > \\mu_{deff}\n",
    "\\end{aligned}"
   ]
  },
  {
   "cell_type": "markdown",
   "id": "0db2f4d3",
   "metadata": {},
   "source": [
    "По ЦПТ средняя стоимость игроков нападения и средняя стоимость игроков защиты распределены нормально, следовательно их разность тоже распределена нормально. Значит можно использовать z статистику для проверки гипотез."
   ]
  },
  {
   "cell_type": "markdown",
   "id": "2e455a19",
   "metadata": {},
   "source": [
    "Уровень значимости alpha = 0.1"
   ]
  },
  {
   "cell_type": "code",
   "execution_count": 11,
   "id": "4a2614ca",
   "metadata": {},
   "outputs": [],
   "source": [
    "alpha = 0.1"
   ]
  },
  {
   "cell_type": "markdown",
   "id": "a35113bf",
   "metadata": {},
   "source": [
    "Находим среднее значение и стандартное отклонение среднего значения стоимости для игроков линии атаки и защиты."
   ]
  },
  {
   "cell_type": "code",
   "execution_count": 20,
   "id": "ae05c7c1",
   "metadata": {},
   "outputs": [],
   "source": [
    "attack_mean = df[df[\"attack\"] == 1].value.mean()\n",
    "deff_mean = df[df[\"deff\"] == 1].value.mean()\n",
    "diff = attack_mean - deff_mean\n",
    "attack_std = df[df[\"attack\"] == 1].value.var(ddof=1) / df[df[\"attack\"] == 1].value.size\n",
    "deff_std = df[df[\"deff\"] == 1].value.var(ddof=1) /  df[df[\"deff\"] == 1].value.size\n",
    "diff_std = attack_std + deff_std"
   ]
  },
  {
   "cell_type": "markdown",
   "id": "33e8ddb0",
   "metadata": {},
   "source": [
    "Находим z статистику и pvalue для полученного значения статистики."
   ]
  },
  {
   "cell_type": "code",
   "execution_count": 21,
   "id": "11a550d1",
   "metadata": {},
   "outputs": [],
   "source": [
    "z_obs = diff / np.sqrt(diff_std)"
   ]
  },
  {
   "cell_type": "code",
   "execution_count": 22,
   "id": "064914f0",
   "metadata": {},
   "outputs": [],
   "source": [
    "pvalue = 1 - sts.norm.cdf(z_obs)"
   ]
  },
  {
   "cell_type": "code",
   "execution_count": 23,
   "id": "c391b92f",
   "metadata": {},
   "outputs": [
    {
     "data": {
      "text/plain": [
       "False"
      ]
     },
     "execution_count": 23,
     "metadata": {},
     "output_type": "execute_result"
    }
   ],
   "source": [
    "pvalue > alpha"
   ]
  },
  {
   "cell_type": "markdown",
   "id": "cd18ebf2",
   "metadata": {},
   "source": [
    "# Вывод:\n",
    "Нулевая гипотеза отвергается в пользу альтернативной. Т.е. можно говорить о том, что средняя стоимость игрока нападения выше средней стоимости игрока защиты."
   ]
  },
  {
   "cell_type": "markdown",
   "id": "59e02313",
   "metadata": {},
   "source": [
    "# Гипотеза № 2:\n",
    "Считается, что игроки защиты  более грубо играют чем остальные, т.е. получают больше красных и желтых карточек. Проверим есть ли зависимость в количестве  карточек от позиции на поле(по одному закону распределения получают карточки игроки защиты и игроки остальных позиций или нет.)\n",
    "\\begin{aligned}\n",
    "& H_0: F{deff} = F_{non.deff} \\\\\n",
    "& H_1: F_{deff} \\neq  F_{non.deff}\n",
    "\\end{aligned}"
   ]
  },
  {
   "cell_type": "markdown",
   "id": "a51dd5d4",
   "metadata": {},
   "source": [
    "Уровень значимости alpha = 0.1"
   ]
  },
  {
   "cell_type": "code",
   "execution_count": 43,
   "id": "3f8e71dd",
   "metadata": {},
   "outputs": [],
   "source": [
    "alpha = 0.1"
   ]
  },
  {
   "cell_type": "markdown",
   "id": "e6061156",
   "metadata": {},
   "source": [
    "Списки названий столбцов с карточками и матчами."
   ]
  },
  {
   "cell_type": "code",
   "execution_count": 29,
   "id": "20ebb4fb",
   "metadata": {},
   "outputs": [],
   "source": [
    "card = [\"yellow20\", \"double_yellows20\", \"red20\", \"yellow21\", \"double_yellows21\", \"red21\", \"yellow22\", \"double_yellows22\", \"red22\"]\n",
    "matches = [\"matches20\", \"matches21\", \"matches22\"]"
   ]
  },
  {
   "cell_type": "markdown",
   "id": "03523814",
   "metadata": {},
   "source": [
    "Делим игроков на защитников и остальных."
   ]
  },
  {
   "cell_type": "code",
   "execution_count": 30,
   "id": "fc0b8107",
   "metadata": {},
   "outputs": [],
   "source": [
    "deff_players = df[df[\"deff\"] == 1]\n",
    "non_deff_players = df[df[\"deff\"] != 1]"
   ]
  },
  {
   "cell_type": "markdown",
   "id": "62fe975f",
   "metadata": {},
   "source": [
    "Находим количество матчей, в которых игроки получали карточки и не получали.(за 1 матч игрок може получить только 1 раз одинарную желтую либо двойную желтую либо прямую красную)."
   ]
  },
  {
   "cell_type": "code",
   "execution_count": 31,
   "id": "f934be45",
   "metadata": {},
   "outputs": [],
   "source": [
    "deff_players[\"matches with card\"] = deff_players[card].sum(axis=1)\n",
    "deff_players[\"matches without card\"] = (deff_players[matches].sum(axis=1) - deff_players[card].sum(axis=1))\n",
    "non_deff_players[\"matches with card\"] = non_deff_players[card].sum(axis=1)\n",
    "non_deff_players[\"matches without card\"] = non_deff_players[matches].sum(axis=1) - non_deff_players[card]"
   ]
  },
  {
   "cell_type": "markdown",
   "id": "e4e4949b",
   "metadata": {},
   "source": [
    "Находим общую сумму значений для каждой группы игроков(защитники и не защитники)."
   ]
  },
  {
   "cell_type": "code",
   "execution_count": 32,
   "id": "af87f954",
   "metadata": {},
   "outputs": [],
   "source": [
    "deff_card = deff_players[\"matches with card\"].sum()\n",
    "deff_nocard = deff_players[\"matches without card\"].sum()\n",
    "non_deff_card = non_deff_players[\"matches with card\"].sum()\n",
    "non_deff_nocard = non_deff_players[\"matches without card\"].sum()"
   ]
  },
  {
   "cell_type": "markdown",
   "id": "a45aa502",
   "metadata": {},
   "source": [
    "Заполняем матрицу и выполняем тест хи квадрат независимости."
   ]
  },
  {
   "cell_type": "code",
   "execution_count": 42,
   "id": "a35ba234",
   "metadata": {},
   "outputs": [
    {
     "data": {
      "text/plain": [
       "False"
      ]
     },
     "execution_count": 42,
     "metadata": {},
     "output_type": "execute_result"
    }
   ],
   "source": [
    "data_hi = np.array([[deff_card, deff_nocard], [non_deff_card, non_deff_nocard]])\n",
    "sts.chi2_contingency(data_hi).pvalue > alpha"
   ]
  },
  {
   "cell_type": "markdown",
   "id": "6dec9a7e",
   "metadata": {},
   "source": [
    "# Вывод:\n",
    "Полученное значение pvalue меньше заявленного уровня значимости. Следовательно нулевая гипотеза отвергается, и можно говорить о том, что защитник игрок или не защитник влияет на получение им карточки."
   ]
  },
  {
   "cell_type": "markdown",
   "id": "5ad052e3",
   "metadata": {},
   "source": [
    "# Гипотеза № 3:\n",
    "Считается, что игроки полузащиты ниже чем остальные, т.к. их в их задачи на поле не входит борьба за мяч в воздухе. Можно предположить, что игроки полузащиты в среднем ниже игроков остальных позиций.\n",
    "\\begin{aligned}\n",
    "& H_0: \\mu_{middle} = \\mu_{nonmiddle} \\\\\n",
    "& H_1: \\mu_{middle} < \\mu_{nonmiddle}\n",
    "\\end{aligned}"
   ]
  },
  {
   "cell_type": "markdown",
   "id": "d189204c",
   "metadata": {},
   "source": [
    "По ЦПТ средний рост игроков нполузащит и средний рост игроков остальных линий распределены нормально, следовательно их разность тоже распределена нормально. Значит можно использовать z статистику для проверки гипотез."
   ]
  },
  {
   "cell_type": "markdown",
   "id": "71a77935",
   "metadata": {},
   "source": [
    "Уровень значимости alpha = 0.1"
   ]
  },
  {
   "cell_type": "code",
   "execution_count": 55,
   "id": "c66f5135",
   "metadata": {},
   "outputs": [],
   "source": [
    "alpha = 0.1"
   ]
  },
  {
   "cell_type": "markdown",
   "id": "ddf9c8a2",
   "metadata": {},
   "source": [
    "Разделим изначальную выборку на игроков полузащиты и остальных."
   ]
  },
  {
   "cell_type": "code",
   "execution_count": 56,
   "id": "a6232ed7",
   "metadata": {},
   "outputs": [],
   "source": [
    "middle = df[df[\"middle\"] == 1]\n",
    "nonmiddle = df[df[\"middle\"] == 0]"
   ]
  },
  {
   "cell_type": "markdown",
   "id": "79e9982b",
   "metadata": {},
   "source": [
    "Находим среднее значение и стандартное отклонение среднего значения роста для игроков линии защиты и остальных."
   ]
  },
  {
   "cell_type": "code",
   "execution_count": 57,
   "id": "49c6b1d7",
   "metadata": {},
   "outputs": [],
   "source": [
    "middle_mean = middle[\"height\"].mean()\n",
    "nonmiddle_mean = nonmiddle[\"height\"].mean()\n",
    "middle_std = middle[\"height\"].var(ddof=1) / middle[\"height\"].size\n",
    "nonmiddle_std = nonmiddle[\"height\"].var(ddof=1) / nonmiddle[\"height\"].size"
   ]
  },
  {
   "cell_type": "markdown",
   "id": "7c517df0",
   "metadata": {},
   "source": [
    "Находим z статистику и pvalue для полученного значения статистики."
   ]
  },
  {
   "cell_type": "code",
   "execution_count": 58,
   "id": "95b363ef",
   "metadata": {},
   "outputs": [],
   "source": [
    "diff = nonmiddle_mean - middle_mean\n",
    "diff_std = np.sqrt(middle_std + nonmiddle_std)\n",
    "z_obs = diff / diff_std\n",
    "pvalue = 1 - sts.norm.cdf(z_obs)"
   ]
  },
  {
   "cell_type": "code",
   "execution_count": 59,
   "id": "93db65b0",
   "metadata": {},
   "outputs": [
    {
     "data": {
      "text/plain": [
       "False"
      ]
     },
     "execution_count": 59,
     "metadata": {},
     "output_type": "execute_result"
    }
   ],
   "source": [
    "pvalue > alpha"
   ]
  },
  {
   "cell_type": "markdown",
   "id": "d2dcc5b4",
   "metadata": {},
   "source": [
    "# Вывод:\n",
    "Итоговое значение pvalue не превосходит уровня значимости. Следовательно нулевая гипотеза отвергается. Т.е можно говорить о том, что в среднем полузащитники ниже остальных игроков."
   ]
  },
  {
   "cell_type": "code",
   "execution_count": null,
   "id": "7e59e5bf",
   "metadata": {},
   "outputs": [],
   "source": []
  }
 ],
 "metadata": {
  "kernelspec": {
   "display_name": "Python 3 (ipykernel)",
   "language": "python",
   "name": "python3"
  },
  "language_info": {
   "codemirror_mode": {
    "name": "ipython",
    "version": 3
   },
   "file_extension": ".py",
   "mimetype": "text/x-python",
   "name": "python",
   "nbconvert_exporter": "python",
   "pygments_lexer": "ipython3",
   "version": "3.9.13"
  }
 },
 "nbformat": 4,
 "nbformat_minor": 5
}
